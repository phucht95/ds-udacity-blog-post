{
 "cells": [
  {
   "cell_type": "markdown",
   "id": "23f36a0e",
   "metadata": {},
   "source": [
    "# Project: Writing a Data Scientist Blog Post - Udacity\n",
    "This is a project about data understanding with CRISP_DM processing in Nano Program Degree of Udacity."
   ]
  },
  {
   "cell_type": "markdown",
   "id": "230279a2",
   "metadata": {},
   "source": [
    "## Business Understanding\n",
    "There are 3 questions that we need answer:\n",
    "1. Top 5 countries have most professional developers\n",
    "2. Top 5 countries have most person who want to work with Python\n",
    "3. Compare average salary of person who used to work with Python language with others."
   ]
  },
  {
   "cell_type": "markdown",
   "id": "91d603d0",
   "metadata": {},
   "source": [
    "## Data Understanding"
   ]
  },
  {
   "cell_type": "code",
   "execution_count": 2,
   "id": "8e09e050",
   "metadata": {},
   "outputs": [],
   "source": [
    "import numpy as np\n",
    "import pandas as pd\n",
    "import matplotlib.pyplot as plt"
   ]
  },
  {
   "cell_type": "code",
   "execution_count": 38,
   "id": "ec62ef5d",
   "metadata": {},
   "outputs": [],
   "source": [
    "df = pd.read_csv(\"survey_results_public.csv\")\n",
    "schema = pd.read_csv(\"survey_results_schema.csv\")"
   ]
  },
  {
   "cell_type": "code",
   "execution_count": 39,
   "id": "02363b5b",
   "metadata": {},
   "outputs": [
    {
     "data": {
      "text/html": [
       "<div>\n",
       "<style scoped>\n",
       "    .dataframe tbody tr th:only-of-type {\n",
       "        vertical-align: middle;\n",
       "    }\n",
       "\n",
       "    .dataframe tbody tr th {\n",
       "        vertical-align: top;\n",
       "    }\n",
       "\n",
       "    .dataframe thead th {\n",
       "        text-align: right;\n",
       "    }\n",
       "</style>\n",
       "<table border=\"1\" class=\"dataframe\">\n",
       "  <thead>\n",
       "    <tr style=\"text-align: right;\">\n",
       "      <th></th>\n",
       "      <th>Respondent</th>\n",
       "      <th>Professional</th>\n",
       "      <th>ProgramHobby</th>\n",
       "      <th>Country</th>\n",
       "      <th>University</th>\n",
       "      <th>EmploymentStatus</th>\n",
       "      <th>FormalEducation</th>\n",
       "      <th>MajorUndergrad</th>\n",
       "      <th>HomeRemote</th>\n",
       "      <th>CompanySize</th>\n",
       "      <th>...</th>\n",
       "      <th>StackOverflowMakeMoney</th>\n",
       "      <th>Gender</th>\n",
       "      <th>HighestEducationParents</th>\n",
       "      <th>Race</th>\n",
       "      <th>SurveyLong</th>\n",
       "      <th>QuestionsInteresting</th>\n",
       "      <th>QuestionsConfusing</th>\n",
       "      <th>InterestedAnswers</th>\n",
       "      <th>Salary</th>\n",
       "      <th>ExpectedSalary</th>\n",
       "    </tr>\n",
       "  </thead>\n",
       "  <tbody>\n",
       "    <tr>\n",
       "      <th>0</th>\n",
       "      <td>1</td>\n",
       "      <td>Student</td>\n",
       "      <td>Yes, both</td>\n",
       "      <td>United States</td>\n",
       "      <td>No</td>\n",
       "      <td>Not employed, and not looking for work</td>\n",
       "      <td>Secondary school</td>\n",
       "      <td>NaN</td>\n",
       "      <td>NaN</td>\n",
       "      <td>NaN</td>\n",
       "      <td>...</td>\n",
       "      <td>Strongly disagree</td>\n",
       "      <td>Male</td>\n",
       "      <td>High school</td>\n",
       "      <td>White or of European descent</td>\n",
       "      <td>Strongly disagree</td>\n",
       "      <td>Strongly agree</td>\n",
       "      <td>Disagree</td>\n",
       "      <td>Strongly agree</td>\n",
       "      <td>NaN</td>\n",
       "      <td>NaN</td>\n",
       "    </tr>\n",
       "    <tr>\n",
       "      <th>1</th>\n",
       "      <td>2</td>\n",
       "      <td>Student</td>\n",
       "      <td>Yes, both</td>\n",
       "      <td>United Kingdom</td>\n",
       "      <td>Yes, full-time</td>\n",
       "      <td>Employed part-time</td>\n",
       "      <td>Some college/university study without earning ...</td>\n",
       "      <td>Computer science or software engineering</td>\n",
       "      <td>More than half, but not all, the time</td>\n",
       "      <td>20 to 99 employees</td>\n",
       "      <td>...</td>\n",
       "      <td>Strongly disagree</td>\n",
       "      <td>Male</td>\n",
       "      <td>A master's degree</td>\n",
       "      <td>White or of European descent</td>\n",
       "      <td>Somewhat agree</td>\n",
       "      <td>Somewhat agree</td>\n",
       "      <td>Disagree</td>\n",
       "      <td>Strongly agree</td>\n",
       "      <td>NaN</td>\n",
       "      <td>37500.0</td>\n",
       "    </tr>\n",
       "  </tbody>\n",
       "</table>\n",
       "<p>2 rows × 154 columns</p>\n",
       "</div>"
      ],
      "text/plain": [
       "   Respondent Professional ProgramHobby         Country      University  \\\n",
       "0           1      Student    Yes, both   United States              No   \n",
       "1           2      Student    Yes, both  United Kingdom  Yes, full-time   \n",
       "\n",
       "                         EmploymentStatus  \\\n",
       "0  Not employed, and not looking for work   \n",
       "1                      Employed part-time   \n",
       "\n",
       "                                     FormalEducation  \\\n",
       "0                                   Secondary school   \n",
       "1  Some college/university study without earning ...   \n",
       "\n",
       "                             MajorUndergrad  \\\n",
       "0                                       NaN   \n",
       "1  Computer science or software engineering   \n",
       "\n",
       "                              HomeRemote         CompanySize  ...  \\\n",
       "0                                    NaN                 NaN  ...   \n",
       "1  More than half, but not all, the time  20 to 99 employees  ...   \n",
       "\n",
       "  StackOverflowMakeMoney Gender HighestEducationParents  \\\n",
       "0      Strongly disagree   Male             High school   \n",
       "1      Strongly disagree   Male       A master's degree   \n",
       "\n",
       "                           Race         SurveyLong QuestionsInteresting  \\\n",
       "0  White or of European descent  Strongly disagree       Strongly agree   \n",
       "1  White or of European descent     Somewhat agree       Somewhat agree   \n",
       "\n",
       "  QuestionsConfusing InterestedAnswers  Salary  ExpectedSalary  \n",
       "0           Disagree    Strongly agree     NaN             NaN  \n",
       "1           Disagree    Strongly agree     NaN         37500.0  \n",
       "\n",
       "[2 rows x 154 columns]"
      ]
     },
     "execution_count": 39,
     "metadata": {},
     "output_type": "execute_result"
    }
   ],
   "source": [
    "df.head(2)"
   ]
  },
  {
   "cell_type": "code",
   "execution_count": 40,
   "id": "b82f7ce0",
   "metadata": {},
   "outputs": [
    {
     "data": {
      "text/html": [
       "<div>\n",
       "<style scoped>\n",
       "    .dataframe tbody tr th:only-of-type {\n",
       "        vertical-align: middle;\n",
       "    }\n",
       "\n",
       "    .dataframe tbody tr th {\n",
       "        vertical-align: top;\n",
       "    }\n",
       "\n",
       "    .dataframe thead th {\n",
       "        text-align: right;\n",
       "    }\n",
       "</style>\n",
       "<table border=\"1\" class=\"dataframe\">\n",
       "  <thead>\n",
       "    <tr style=\"text-align: right;\">\n",
       "      <th></th>\n",
       "      <th>Respondent</th>\n",
       "      <th>CareerSatisfaction</th>\n",
       "      <th>JobSatisfaction</th>\n",
       "      <th>HoursPerWeek</th>\n",
       "      <th>StackOverflowSatisfaction</th>\n",
       "      <th>Salary</th>\n",
       "      <th>ExpectedSalary</th>\n",
       "    </tr>\n",
       "  </thead>\n",
       "  <tbody>\n",
       "    <tr>\n",
       "      <th>count</th>\n",
       "      <td>51392.000000</td>\n",
       "      <td>42695.000000</td>\n",
       "      <td>40376.000000</td>\n",
       "      <td>20600.000000</td>\n",
       "      <td>36592.000000</td>\n",
       "      <td>12891.000000</td>\n",
       "      <td>2566.000000</td>\n",
       "    </tr>\n",
       "    <tr>\n",
       "      <th>mean</th>\n",
       "      <td>25696.500000</td>\n",
       "      <td>7.300574</td>\n",
       "      <td>6.957078</td>\n",
       "      <td>3.952282</td>\n",
       "      <td>8.429875</td>\n",
       "      <td>56298.480641</td>\n",
       "      <td>33142.220468</td>\n",
       "    </tr>\n",
       "    <tr>\n",
       "      <th>std</th>\n",
       "      <td>14835.736854</td>\n",
       "      <td>1.955444</td>\n",
       "      <td>2.167652</td>\n",
       "      <td>7.564722</td>\n",
       "      <td>1.390635</td>\n",
       "      <td>39880.905277</td>\n",
       "      <td>30162.988829</td>\n",
       "    </tr>\n",
       "    <tr>\n",
       "      <th>min</th>\n",
       "      <td>1.000000</td>\n",
       "      <td>0.000000</td>\n",
       "      <td>0.000000</td>\n",
       "      <td>0.000000</td>\n",
       "      <td>0.000000</td>\n",
       "      <td>0.000000</td>\n",
       "      <td>0.000000</td>\n",
       "    </tr>\n",
       "    <tr>\n",
       "      <th>25%</th>\n",
       "      <td>12848.750000</td>\n",
       "      <td>6.000000</td>\n",
       "      <td>6.000000</td>\n",
       "      <td>1.000000</td>\n",
       "      <td>8.000000</td>\n",
       "      <td>26440.371839</td>\n",
       "      <td>4490.492484</td>\n",
       "    </tr>\n",
       "    <tr>\n",
       "      <th>50%</th>\n",
       "      <td>25696.500000</td>\n",
       "      <td>8.000000</td>\n",
       "      <td>7.000000</td>\n",
       "      <td>1.000000</td>\n",
       "      <td>9.000000</td>\n",
       "      <td>50000.000000</td>\n",
       "      <td>29364.263691</td>\n",
       "    </tr>\n",
       "    <tr>\n",
       "      <th>75%</th>\n",
       "      <td>38544.250000</td>\n",
       "      <td>9.000000</td>\n",
       "      <td>8.000000</td>\n",
       "      <td>4.000000</td>\n",
       "      <td>10.000000</td>\n",
       "      <td>80000.000000</td>\n",
       "      <td>50403.225806</td>\n",
       "    </tr>\n",
       "    <tr>\n",
       "      <th>max</th>\n",
       "      <td>51392.000000</td>\n",
       "      <td>10.000000</td>\n",
       "      <td>10.000000</td>\n",
       "      <td>40.000000</td>\n",
       "      <td>10.000000</td>\n",
       "      <td>197000.000000</td>\n",
       "      <td>187500.000000</td>\n",
       "    </tr>\n",
       "  </tbody>\n",
       "</table>\n",
       "</div>"
      ],
      "text/plain": [
       "         Respondent  CareerSatisfaction  JobSatisfaction  HoursPerWeek  \\\n",
       "count  51392.000000        42695.000000     40376.000000  20600.000000   \n",
       "mean   25696.500000            7.300574         6.957078      3.952282   \n",
       "std    14835.736854            1.955444         2.167652      7.564722   \n",
       "min        1.000000            0.000000         0.000000      0.000000   \n",
       "25%    12848.750000            6.000000         6.000000      1.000000   \n",
       "50%    25696.500000            8.000000         7.000000      1.000000   \n",
       "75%    38544.250000            9.000000         8.000000      4.000000   \n",
       "max    51392.000000           10.000000        10.000000     40.000000   \n",
       "\n",
       "       StackOverflowSatisfaction         Salary  ExpectedSalary  \n",
       "count               36592.000000   12891.000000     2566.000000  \n",
       "mean                    8.429875   56298.480641    33142.220468  \n",
       "std                     1.390635   39880.905277    30162.988829  \n",
       "min                     0.000000       0.000000        0.000000  \n",
       "25%                     8.000000   26440.371839     4490.492484  \n",
       "50%                     9.000000   50000.000000    29364.263691  \n",
       "75%                    10.000000   80000.000000    50403.225806  \n",
       "max                    10.000000  197000.000000   187500.000000  "
      ]
     },
     "execution_count": 40,
     "metadata": {},
     "output_type": "execute_result"
    }
   ],
   "source": [
    "df.describe()"
   ]
  },
  {
   "cell_type": "markdown",
   "id": "1918e363",
   "metadata": {},
   "source": [
    "In order to answer theses questions, we only consider some special features. Specially, we will\n",
    "check: Country, Professional, HaveWorkLanguage, WantWorkLanguage and Salary"
   ]
  },
  {
   "cell_type": "code",
   "execution_count": 41,
   "id": "ffeccfc8",
   "metadata": {},
   "outputs": [],
   "source": [
    "new_df = df[[\"Respondent\", \"Country\", \"Professional\", \"HaveWorkedLanguage\", \"WantWorkLanguage\", \"Salary\"]]"
   ]
  },
  {
   "cell_type": "markdown",
   "id": "ce868b90",
   "metadata": {},
   "source": [
    "From now, we only analyze new_df DataFrame"
   ]
  },
  {
   "cell_type": "code",
   "execution_count": 42,
   "id": "81cb1425",
   "metadata": {},
   "outputs": [
    {
     "data": {
      "text/html": [
       "<div>\n",
       "<style scoped>\n",
       "    .dataframe tbody tr th:only-of-type {\n",
       "        vertical-align: middle;\n",
       "    }\n",
       "\n",
       "    .dataframe tbody tr th {\n",
       "        vertical-align: top;\n",
       "    }\n",
       "\n",
       "    .dataframe thead th {\n",
       "        text-align: right;\n",
       "    }\n",
       "</style>\n",
       "<table border=\"1\" class=\"dataframe\">\n",
       "  <thead>\n",
       "    <tr style=\"text-align: right;\">\n",
       "      <th></th>\n",
       "      <th>Respondent</th>\n",
       "      <th>Salary</th>\n",
       "    </tr>\n",
       "  </thead>\n",
       "  <tbody>\n",
       "    <tr>\n",
       "      <th>count</th>\n",
       "      <td>51392.000000</td>\n",
       "      <td>12891.000000</td>\n",
       "    </tr>\n",
       "    <tr>\n",
       "      <th>mean</th>\n",
       "      <td>25696.500000</td>\n",
       "      <td>56298.480641</td>\n",
       "    </tr>\n",
       "    <tr>\n",
       "      <th>std</th>\n",
       "      <td>14835.736854</td>\n",
       "      <td>39880.905277</td>\n",
       "    </tr>\n",
       "    <tr>\n",
       "      <th>min</th>\n",
       "      <td>1.000000</td>\n",
       "      <td>0.000000</td>\n",
       "    </tr>\n",
       "    <tr>\n",
       "      <th>25%</th>\n",
       "      <td>12848.750000</td>\n",
       "      <td>26440.371839</td>\n",
       "    </tr>\n",
       "    <tr>\n",
       "      <th>50%</th>\n",
       "      <td>25696.500000</td>\n",
       "      <td>50000.000000</td>\n",
       "    </tr>\n",
       "    <tr>\n",
       "      <th>75%</th>\n",
       "      <td>38544.250000</td>\n",
       "      <td>80000.000000</td>\n",
       "    </tr>\n",
       "    <tr>\n",
       "      <th>max</th>\n",
       "      <td>51392.000000</td>\n",
       "      <td>197000.000000</td>\n",
       "    </tr>\n",
       "  </tbody>\n",
       "</table>\n",
       "</div>"
      ],
      "text/plain": [
       "         Respondent         Salary\n",
       "count  51392.000000   12891.000000\n",
       "mean   25696.500000   56298.480641\n",
       "std    14835.736854   39880.905277\n",
       "min        1.000000       0.000000\n",
       "25%    12848.750000   26440.371839\n",
       "50%    25696.500000   50000.000000\n",
       "75%    38544.250000   80000.000000\n",
       "max    51392.000000  197000.000000"
      ]
     },
     "execution_count": 42,
     "metadata": {},
     "output_type": "execute_result"
    }
   ],
   "source": [
    "new_df.describe()"
   ]
  },
  {
   "cell_type": "code",
   "execution_count": 43,
   "id": "d1b545ed",
   "metadata": {},
   "outputs": [
    {
     "name": "stdout",
     "output_type": "stream",
     "text": [
      "Number of rows: 51392\n",
      "Number of columns: 6\n"
     ]
    }
   ],
   "source": [
    "n_rows = new_df.shape[0]\n",
    "n_cols = new_df.shape[1]\n",
    "print(\"Number of rows: {}\".format(n_rows))\n",
    "print(\"Number of columns: {}\".format(n_cols))"
   ]
  },
  {
   "cell_type": "markdown",
   "id": "c2ab2cda",
   "metadata": {},
   "source": [
    "#### Describe features of data"
   ]
  },
  {
   "cell_type": "code",
   "execution_count": 44,
   "id": "41bac43d",
   "metadata": {},
   "outputs": [],
   "source": [
    "def get_description(column_name, schema=schema):\n",
    "    '''\n",
    "    INPUT\n",
    "        schema - pandas dataframe with the schema of the developers survey\n",
    "        column_name - string - the name of the column you would like to know about\n",
    "    OUTPUT\n",
    "        desc - string - the description of the column\n",
    "    '''\n",
    "    return '\\033[91m'+ f\"{column_name}: \" + '\\033[0m' +\\\n",
    "        list(schema[schema['Column'] == column_name]['Question'])[0]"
   ]
  },
  {
   "cell_type": "code",
   "execution_count": 45,
   "id": "8a3e5fbb",
   "metadata": {},
   "outputs": [
    {
     "name": "stdout",
     "output_type": "stream",
     "text": [
      "\u001b[91mRespondent: \u001b[0mRespondent ID number\n",
      "\u001b[91mCountry: \u001b[0mIn which country do you currently live?\n",
      "\u001b[91mProfessional: \u001b[0mWhich of the following best describes you?\n",
      "\u001b[91mHaveWorkedLanguage: \u001b[0mWhich of the following languages have you done extensive development work in over the past year, and which do you want to work in over the next year?\n",
      "\u001b[91mWantWorkLanguage: \u001b[0mWhich of the following languages have you done extensive development work in over the past year, and which do you want to work in over the next year?\n",
      "\u001b[91mSalary: \u001b[0mWhat is your current annual base salary, before taxes, and excluding bonuses, grants, or other compensation?\n"
     ]
    }
   ],
   "source": [
    "for i in range(len(new_df.columns)):\n",
    "    print(get_description(new_df.columns[i]))"
   ]
  },
  {
   "cell_type": "markdown",
   "id": "cb0074fa",
   "metadata": {},
   "source": [
    "## Prepare Data\n",
    "1. Check missing values\n",
    "2. Drop Data"
   ]
  },
  {
   "cell_type": "markdown",
   "id": "f2dc91d4",
   "metadata": {},
   "source": [
    "#### 1. Check missing data"
   ]
  },
  {
   "cell_type": "code",
   "execution_count": 46,
   "id": "b0862eaa",
   "metadata": {},
   "outputs": [
    {
     "data": {
      "text/plain": [
       "Respondent                0\n",
       "Country                   0\n",
       "Professional              0\n",
       "HaveWorkedLanguage    14767\n",
       "WantWorkLanguage      17621\n",
       "Salary                38501\n",
       "dtype: int64"
      ]
     },
     "execution_count": 46,
     "metadata": {},
     "output_type": "execute_result"
    }
   ],
   "source": [
    "new_df.isnull().sum()"
   ]
  },
  {
   "cell_type": "markdown",
   "id": "d2a04859",
   "metadata": {},
   "source": [
    "Features such as: HaveWorkedLanguage, WantWorkLanguage have not too much missing values. So we can drop respondents that have 2 columns are null. And for feature \"Salary\", we can also do the same, because it's has little effect on whole salary."
   ]
  },
  {
   "cell_type": "markdown",
   "id": "1942357f",
   "metadata": {},
   "source": [
    "#### 2. Drop missing values"
   ]
  },
  {
   "cell_type": "code",
   "execution_count": 47,
   "id": "989c7ccb",
   "metadata": {},
   "outputs": [],
   "source": [
    "drop_df = new_df.dropna(axis=0)"
   ]
  },
  {
   "cell_type": "code",
   "execution_count": 49,
   "id": "06270f0e",
   "metadata": {},
   "outputs": [
    {
     "data": {
      "text/html": [
       "<div>\n",
       "<style scoped>\n",
       "    .dataframe tbody tr th:only-of-type {\n",
       "        vertical-align: middle;\n",
       "    }\n",
       "\n",
       "    .dataframe tbody tr th {\n",
       "        vertical-align: top;\n",
       "    }\n",
       "\n",
       "    .dataframe thead th {\n",
       "        text-align: right;\n",
       "    }\n",
       "</style>\n",
       "<table border=\"1\" class=\"dataframe\">\n",
       "  <thead>\n",
       "    <tr style=\"text-align: right;\">\n",
       "      <th></th>\n",
       "      <th>Respondent</th>\n",
       "      <th>Country</th>\n",
       "      <th>Professional</th>\n",
       "      <th>HaveWorkedLanguage</th>\n",
       "      <th>WantWorkLanguage</th>\n",
       "      <th>Salary</th>\n",
       "    </tr>\n",
       "  </thead>\n",
       "  <tbody>\n",
       "    <tr>\n",
       "      <th>2</th>\n",
       "      <td>3</td>\n",
       "      <td>United Kingdom</td>\n",
       "      <td>Professional developer</td>\n",
       "      <td>Java; PHP; Python</td>\n",
       "      <td>C; Python; Rust</td>\n",
       "      <td>113750.000000</td>\n",
       "    </tr>\n",
       "    <tr>\n",
       "      <th>14</th>\n",
       "      <td>15</td>\n",
       "      <td>United Kingdom</td>\n",
       "      <td>Professional developer</td>\n",
       "      <td>Assembly; C; C++</td>\n",
       "      <td>Assembly; C; C++; Python</td>\n",
       "      <td>100000.000000</td>\n",
       "    </tr>\n",
       "    <tr>\n",
       "      <th>17</th>\n",
       "      <td>18</td>\n",
       "      <td>United States</td>\n",
       "      <td>Professional developer</td>\n",
       "      <td>C; Clojure; JavaScript; Matlab; Rust; SQL; Swift</td>\n",
       "      <td>Assembly; Clojure; Go; JavaScript; Rust; Swift...</td>\n",
       "      <td>130000.000000</td>\n",
       "    </tr>\n",
       "    <tr>\n",
       "      <th>22</th>\n",
       "      <td>23</td>\n",
       "      <td>Israel</td>\n",
       "      <td>Professional developer</td>\n",
       "      <td>Java</td>\n",
       "      <td>Java; Scala; Swift</td>\n",
       "      <td>100764.000000</td>\n",
       "    </tr>\n",
       "    <tr>\n",
       "      <th>25</th>\n",
       "      <td>26</td>\n",
       "      <td>United States</td>\n",
       "      <td>Professional developer</td>\n",
       "      <td>Java; Scala</td>\n",
       "      <td>JavaScript; Scala</td>\n",
       "      <td>175000.000000</td>\n",
       "    </tr>\n",
       "    <tr>\n",
       "      <th>...</th>\n",
       "      <td>...</td>\n",
       "      <td>...</td>\n",
       "      <td>...</td>\n",
       "      <td>...</td>\n",
       "      <td>...</td>\n",
       "      <td>...</td>\n",
       "    </tr>\n",
       "    <tr>\n",
       "      <th>51371</th>\n",
       "      <td>51372</td>\n",
       "      <td>Netherlands</td>\n",
       "      <td>Professional developer</td>\n",
       "      <td>Go; JavaScript; Python</td>\n",
       "      <td>Elixir; JavaScript; Python; Scala</td>\n",
       "      <td>74193.548387</td>\n",
       "    </tr>\n",
       "    <tr>\n",
       "      <th>51378</th>\n",
       "      <td>51379</td>\n",
       "      <td>Cyprus</td>\n",
       "      <td>Professional developer</td>\n",
       "      <td>JavaScript; Objective-C; Python; Swift</td>\n",
       "      <td>CoffeeScript; JavaScript; Python; Ruby</td>\n",
       "      <td>107526.881720</td>\n",
       "    </tr>\n",
       "    <tr>\n",
       "      <th>51382</th>\n",
       "      <td>51383</td>\n",
       "      <td>France</td>\n",
       "      <td>Professional developer</td>\n",
       "      <td>C#; JavaScript; TypeScript</td>\n",
       "      <td>JavaScript</td>\n",
       "      <td>32258.064516</td>\n",
       "    </tr>\n",
       "    <tr>\n",
       "      <th>51387</th>\n",
       "      <td>51388</td>\n",
       "      <td>United States</td>\n",
       "      <td>Professional developer</td>\n",
       "      <td>C#; JavaScript; Python; SQL; VB.NET; VBA</td>\n",
       "      <td>C#; Python; R; Ruby; Rust; Scala; TypeScript; ...</td>\n",
       "      <td>58000.000000</td>\n",
       "    </tr>\n",
       "    <tr>\n",
       "      <th>51390</th>\n",
       "      <td>51391</td>\n",
       "      <td>United States</td>\n",
       "      <td>Professional developer</td>\n",
       "      <td>JavaScript; PHP; Swift</td>\n",
       "      <td>Clojure; Erlang; Haskell</td>\n",
       "      <td>40000.000000</td>\n",
       "    </tr>\n",
       "  </tbody>\n",
       "</table>\n",
       "<p>11232 rows × 6 columns</p>\n",
       "</div>"
      ],
      "text/plain": [
       "       Respondent         Country            Professional  \\\n",
       "2               3  United Kingdom  Professional developer   \n",
       "14             15  United Kingdom  Professional developer   \n",
       "17             18   United States  Professional developer   \n",
       "22             23          Israel  Professional developer   \n",
       "25             26   United States  Professional developer   \n",
       "...           ...             ...                     ...   \n",
       "51371       51372     Netherlands  Professional developer   \n",
       "51378       51379          Cyprus  Professional developer   \n",
       "51382       51383          France  Professional developer   \n",
       "51387       51388   United States  Professional developer   \n",
       "51390       51391   United States  Professional developer   \n",
       "\n",
       "                                     HaveWorkedLanguage  \\\n",
       "2                                     Java; PHP; Python   \n",
       "14                                     Assembly; C; C++   \n",
       "17     C; Clojure; JavaScript; Matlab; Rust; SQL; Swift   \n",
       "22                                                 Java   \n",
       "25                                          Java; Scala   \n",
       "...                                                 ...   \n",
       "51371                            Go; JavaScript; Python   \n",
       "51378            JavaScript; Objective-C; Python; Swift   \n",
       "51382                        C#; JavaScript; TypeScript   \n",
       "51387          C#; JavaScript; Python; SQL; VB.NET; VBA   \n",
       "51390                            JavaScript; PHP; Swift   \n",
       "\n",
       "                                        WantWorkLanguage         Salary  \n",
       "2                                        C; Python; Rust  113750.000000  \n",
       "14                              Assembly; C; C++; Python  100000.000000  \n",
       "17     Assembly; Clojure; Go; JavaScript; Rust; Swift...  130000.000000  \n",
       "22                                    Java; Scala; Swift  100764.000000  \n",
       "25                                     JavaScript; Scala  175000.000000  \n",
       "...                                                  ...            ...  \n",
       "51371                  Elixir; JavaScript; Python; Scala   74193.548387  \n",
       "51378             CoffeeScript; JavaScript; Python; Ruby  107526.881720  \n",
       "51382                                         JavaScript   32258.064516  \n",
       "51387  C#; Python; R; Ruby; Rust; Scala; TypeScript; ...   58000.000000  \n",
       "51390                           Clojure; Erlang; Haskell   40000.000000  \n",
       "\n",
       "[11232 rows x 6 columns]"
      ]
     },
     "execution_count": 49,
     "metadata": {},
     "output_type": "execute_result"
    }
   ],
   "source": [
    "drop_df"
   ]
  },
  {
   "cell_type": "code",
   "execution_count": 48,
   "id": "ed9d347f",
   "metadata": {},
   "outputs": [
    {
     "data": {
      "text/plain": [
       "Respondent            0\n",
       "Country               0\n",
       "Professional          0\n",
       "HaveWorkedLanguage    0\n",
       "WantWorkLanguage      0\n",
       "Salary                0\n",
       "dtype: int64"
      ]
     },
     "execution_count": 48,
     "metadata": {},
     "output_type": "execute_result"
    }
   ],
   "source": [
    "drop_df.isnull().sum()"
   ]
  },
  {
   "cell_type": "markdown",
   "id": "98754c8d",
   "metadata": {},
   "source": [
    "## Evaluation"
   ]
  },
  {
   "cell_type": "code",
   "execution_count": 51,
   "id": "d97ae2f4",
   "metadata": {},
   "outputs": [],
   "source": [
    "ques1_df = new_df.Country[new_df.Professional == \"Professional developer\"].value_counts()"
   ]
  },
  {
   "cell_type": "code",
   "execution_count": 52,
   "id": "66e46be5",
   "metadata": {},
   "outputs": [
    {
     "data": {
      "text/plain": [
       "United States     8310\n",
       "India             3438\n",
       "United Kingdom    3302\n",
       "Germany           2767\n",
       "Canada            1605\n",
       "Name: Country, dtype: int64"
      ]
     },
     "execution_count": 52,
     "metadata": {},
     "output_type": "execute_result"
    }
   ],
   "source": [
    "ques1_df[:5]"
   ]
  },
  {
   "cell_type": "code",
   "execution_count": 53,
   "id": "9479a4db",
   "metadata": {},
   "outputs": [
    {
     "data": {
      "text/plain": [
       "<matplotlib.axes._subplots.AxesSubplot at 0x17747b82e50>"
      ]
     },
     "execution_count": 53,
     "metadata": {},
     "output_type": "execute_result"
    },
    {
     "data": {
      "image/png": "[encoded data removed]",
      "text/plain": [
       "<Figure size 432x288 with 1 Axes>"
      ]
     },
     "metadata": {
      "needs_background": "light"
     },
     "output_type": "display_data"
    }
   ],
   "source": [
    "ques1_df[:5].plot(kind=\"bar\", title=\"Top 5 countries have most professional developers\",\\\n",
    "             xlabel=\"Country\", ylabel=\"Number of Professional Developers\",\\\n",
    "             color=[\"g\", \"b\", \"purple\", \"orange\", \"r\"])"
   ]
  },
  {
   "cell_type": "markdown",
   "id": "4ccb829d",
   "metadata": {},
   "source": [
    "#### 1. Top 5 countries have most professional developers: US, India, UK, Germany and Canada\n",
    "<table>\n",
    "<tr float=\"left\">\n",
    "   <td><img src=\"images/ques1.PNG\"></td>\n",
    "   <td><img src=\"images/output1.PNG\"/></td>\n",
    "</tr>\n",
    "    </table>"
   ]
  },
  {
   "cell_type": "code",
   "execution_count": 54,
   "id": "7683b10a",
   "metadata": {},
   "outputs": [
    {
     "name": "stderr",
     "output_type": "stream",
     "text": [
      "C:\\Users\\phucht2\\AppData\\Local\\Temp/ipykernel_15432/1603197917.py:1: SettingWithCopyWarning: \n",
      "A value is trying to be set on a copy of a slice from a DataFrame.\n",
      "Try using .loc[row_indexer,col_indexer] = value instead\n",
      "\n",
      "See the caveats in the documentation: https://pandas.pydata.org/pandas-docs/stable/user_guide/indexing.html#returning-a-view-versus-a-copy\n",
      "  drop_df[\"haveworkedlanguagepython\"] = drop_df.apply(lambda x: 1 if \\\n"
     ]
    }
   ],
   "source": [
    "drop_df[\"haveworkedlanguagepython\"] = drop_df.apply(lambda x: 1 if \\\n",
    "        \"Python\" in str(x[\"HaveWorkedLanguage\"]) else 0, axis=1)"
   ]
  },
  {
   "cell_type": "code",
   "execution_count": 55,
   "id": "960fdaf7",
   "metadata": {},
   "outputs": [
    {
     "data": {
      "text/html": [
       "<div>\n",
       "<style scoped>\n",
       "    .dataframe tbody tr th:only-of-type {\n",
       "        vertical-align: middle;\n",
       "    }\n",
       "\n",
       "    .dataframe tbody tr th {\n",
       "        vertical-align: top;\n",
       "    }\n",
       "\n",
       "    .dataframe thead th {\n",
       "        text-align: right;\n",
       "    }\n",
       "</style>\n",
       "<table border=\"1\" class=\"dataframe\">\n",
       "  <thead>\n",
       "    <tr style=\"text-align: right;\">\n",
       "      <th></th>\n",
       "      <th>Respondent</th>\n",
       "      <th>Country</th>\n",
       "      <th>Professional</th>\n",
       "      <th>HaveWorkedLanguage</th>\n",
       "      <th>WantWorkLanguage</th>\n",
       "      <th>Salary</th>\n",
       "      <th>haveworkedlanguagepython</th>\n",
       "    </tr>\n",
       "  </thead>\n",
       "  <tbody>\n",
       "    <tr>\n",
       "      <th>2</th>\n",
       "      <td>3</td>\n",
       "      <td>United Kingdom</td>\n",
       "      <td>Professional developer</td>\n",
       "      <td>Java; PHP; Python</td>\n",
       "      <td>C; Python; Rust</td>\n",
       "      <td>113750.0</td>\n",
       "      <td>1</td>\n",
       "    </tr>\n",
       "    <tr>\n",
       "      <th>14</th>\n",
       "      <td>15</td>\n",
       "      <td>United Kingdom</td>\n",
       "      <td>Professional developer</td>\n",
       "      <td>Assembly; C; C++</td>\n",
       "      <td>Assembly; C; C++; Python</td>\n",
       "      <td>100000.0</td>\n",
       "      <td>0</td>\n",
       "    </tr>\n",
       "  </tbody>\n",
       "</table>\n",
       "</div>"
      ],
      "text/plain": [
       "    Respondent         Country            Professional HaveWorkedLanguage  \\\n",
       "2            3  United Kingdom  Professional developer  Java; PHP; Python   \n",
       "14          15  United Kingdom  Professional developer   Assembly; C; C++   \n",
       "\n",
       "            WantWorkLanguage    Salary  haveworkedlanguagepython  \n",
       "2            C; Python; Rust  113750.0                         1  \n",
       "14  Assembly; C; C++; Python  100000.0                         0  "
      ]
     },
     "execution_count": 55,
     "metadata": {},
     "output_type": "execute_result"
    }
   ],
   "source": [
    "drop_df.head(2)"
   ]
  },
  {
   "cell_type": "code",
   "execution_count": 56,
   "id": "be02f593",
   "metadata": {},
   "outputs": [],
   "source": [
    "ques2_df = drop_df.Country[drop_df.haveworkedlanguagepython == 1].value_counts()"
   ]
  },
  {
   "cell_type": "code",
   "execution_count": 57,
   "id": "947248c5",
   "metadata": {},
   "outputs": [
    {
     "data": {
      "text/plain": [
       "United States     1102\n",
       "United Kingdom     330\n",
       "Germany            241\n",
       "Canada             199\n",
       "India              140\n",
       "Name: Country, dtype: int64"
      ]
     },
     "execution_count": 57,
     "metadata": {},
     "output_type": "execute_result"
    }
   ],
   "source": [
    "ques2_df[:5]"
   ]
  },
  {
   "cell_type": "code",
   "execution_count": 60,
   "id": "08259070",
   "metadata": {},
   "outputs": [
    {
     "data": {
      "text/plain": [
       "<matplotlib.axes._subplots.AxesSubplot at 0x1774a290610>"
      ]
     },
     "execution_count": 60,
     "metadata": {},
     "output_type": "execute_result"
    },
    {
     "data": {
      "image/png": "[encoded data removed]",
      "text/plain": [
       "<Figure size 432x288 with 1 Axes>"
      ]
     },
     "metadata": {
      "needs_background": "light"
     },
     "output_type": "display_data"
    }
   ],
   "source": [
    "ques2_df[:5].plot(kind=\"bar\", title=\"Top 5 countries have most person who have worked with Python\",\\\n",
    "             xlabel=\"Country\", ylabel=\"Number of Person\",\\\n",
    "             color=[\"g\", \"b\", \"purple\", \"orange\", \"r\"])"
   ]
  },
  {
   "cell_type": "markdown",
   "id": "85aeabf1",
   "metadata": {},
   "source": [
    "#### 2. Top 5 countries have most person who have worked Python: US, UK, Germany, India and Canada\n",
    "<table>\n",
    "<tr float=\"left\">\n",
    "    <td><img src=\"images/ques2.PNG\"/></td>\n",
    "    <td><img src=\"images/output2.PNG\"/></td>\n",
    "</tr>\n",
    "</table>"
   ]
  },
  {
   "cell_type": "code",
   "execution_count": 61,
   "id": "6ceb456c",
   "metadata": {},
   "outputs": [],
   "source": [
    "ques3_python_df = drop_df.Salary[drop_df.haveworkedlanguagepython == 1].mean()"
   ]
  },
  {
   "cell_type": "code",
   "execution_count": 62,
   "id": "864575b2",
   "metadata": {},
   "outputs": [],
   "source": [
    "ques3_other_df = drop_df.Salary[drop_df.haveworkedlanguagepython != 1].mean()"
   ]
  },
  {
   "cell_type": "code",
   "execution_count": 63,
   "id": "639ff123",
   "metadata": {},
   "outputs": [],
   "source": [
    "ques3_df = pd.DataFrame({\"Python\": [str(int(ques3_other_df)) + \"$/ year\"], \\\n",
    "                         \"Not Python\":[str(int(ques3_python_df)) + \"$/ year\"]}, index=None)"
   ]
  },
  {
   "cell_type": "code",
   "execution_count": 64,
   "id": "2f22785d",
   "metadata": {},
   "outputs": [
    {
     "data": {
      "text/html": [
       "<div>\n",
       "<style scoped>\n",
       "    .dataframe tbody tr th:only-of-type {\n",
       "        vertical-align: middle;\n",
       "    }\n",
       "\n",
       "    .dataframe tbody tr th {\n",
       "        vertical-align: top;\n",
       "    }\n",
       "\n",
       "    .dataframe thead th {\n",
       "        text-align: right;\n",
       "    }\n",
       "</style>\n",
       "<table border=\"1\" class=\"dataframe\">\n",
       "  <thead>\n",
       "    <tr style=\"text-align: right;\">\n",
       "      <th></th>\n",
       "      <th>Python</th>\n",
       "      <th>Not Python</th>\n",
       "    </tr>\n",
       "  </thead>\n",
       "  <tbody>\n",
       "    <tr>\n",
       "      <th>0</th>\n",
       "      <td>55059$/ year</td>\n",
       "      <td>61792$/ year</td>\n",
       "    </tr>\n",
       "  </tbody>\n",
       "</table>\n",
       "</div>"
      ],
      "text/plain": [
       "         Python    Not Python\n",
       "0  55059$/ year  61792$/ year"
      ]
     },
     "execution_count": 64,
     "metadata": {},
     "output_type": "execute_result"
    }
   ],
   "source": [
    "ques3_df"
   ]
  },
  {
   "cell_type": "markdown",
   "id": "c949c427",
   "metadata": {},
   "source": [
    "#### 3. Compare average salary of person who used to work with Python language with Others\n"
   ]
  },
  {
   "cell_type": "markdown",
   "id": "5513717e",
   "metadata": {},
   "source": [
    "<img src=\"images/output3.PNG\">\n",
    "It can be seen that, average salary of person who used to work with Python language is less than the average salary of person who used to work with other languages"
   ]
  },
  {
   "cell_type": "code",
   "execution_count": null,
   "id": "eab4a206",
   "metadata": {},
   "outputs": [],
   "source": []
  },
  {
   "cell_type": "code",
   "execution_count": null,
   "id": "1a6d55c7",
   "metadata": {},
   "outputs": [],
   "source": []
  }
 ],
 "metadata": {
  "kernelspec": {
   "display_name": "Python 3 (ipykernel)",
   "language": "python",
   "name": "python3"
  },
  "language_info": {
   "codemirror_mode": {
    "name": "ipython",
    "version": 3
   },
   "file_extension": ".py",
   "mimetype": "text/x-python",
   "name": "python",
   "nbconvert_exporter": "python",
   "pygments_lexer": "ipython3",
   "version": "3.6.5 |Anaconda, Inc.| (default, Mar 29 2018, 13:32:41) [MSC v.1900 64 bit (AMD64)]"
  },
  "vscode": {
   "interpreter": {
    "hash": "915fad4f083937ba27ad06f27af9f139a200a517c6e237201f926753974415f7"
   }
  }
 },
 "nbformat": 4,
 "nbformat_minor": 5
}
