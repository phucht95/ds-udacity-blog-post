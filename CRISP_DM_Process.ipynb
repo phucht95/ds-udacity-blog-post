{
 "cells": [
  {
   "cell_type": "markdown",
   "id": "23f36a0e",
   "metadata": {},
   "source": [
    "# Project: Writing a Data Scientist Blog Post - Udacity\n",
    "This is a project about data understanding with CRISP_DM processing in Nano Program Degree of Udacity."
   ]
  },
  {
   "cell_type": "markdown",
   "id": "230279a2",
   "metadata": {},
   "source": [
    "## Business & Data Understanding\n",
    "There are 3 questions that we need answer:\n",
    "1. Top 5 countries have most professional developers\n",
    "2. Top 5 countries have most person who want to work with Python\n",
    "3. Compare average salary of person who used to work with Python language with others."
   ]
  },
  {
   "cell_type": "markdown",
   "id": "91d603d0",
   "metadata": {},
   "source": [
    "## Load data"
   ]
  },
  {
   "cell_type": "code",
   "execution_count": 1,
   "id": "8e09e050",
   "metadata": {},
   "outputs": [],
   "source": [
    "import numpy as np\n",
    "import pandas as pd\n",
    "import matplotlib.pyplot as plt"
   ]
  },
  {
   "cell_type": "code",
   "execution_count": 2,
   "id": "ec62ef5d",
   "metadata": {},
   "outputs": [],
   "source": [
    "df = pd.read_csv(\"survey_results_public.csv\")\n",
    "schema = pd.read_csv(\"survey_results_schema.csv\")"
   ]
  },
  {
   "cell_type": "code",
   "execution_count": 3,
   "id": "02363b5b",
   "metadata": {},
   "outputs": [
    {
     "data": {
      "text/html": [
       "<div>\n",
       "<style scoped>\n",
       "    .dataframe tbody tr th:only-of-type {\n",
       "        vertical-align: middle;\n",
       "    }\n",
       "\n",
       "    .dataframe tbody tr th {\n",
       "        vertical-align: top;\n",
       "    }\n",
       "\n",
       "    .dataframe thead th {\n",
       "        text-align: right;\n",
       "    }\n",
       "</style>\n",
       "<table border=\"1\" class=\"dataframe\">\n",
       "  <thead>\n",
       "    <tr style=\"text-align: right;\">\n",
       "      <th></th>\n",
       "      <th>Respondent</th>\n",
       "      <th>Professional</th>\n",
       "      <th>ProgramHobby</th>\n",
       "      <th>Country</th>\n",
       "      <th>University</th>\n",
       "      <th>EmploymentStatus</th>\n",
       "      <th>FormalEducation</th>\n",
       "      <th>MajorUndergrad</th>\n",
       "      <th>HomeRemote</th>\n",
       "      <th>CompanySize</th>\n",
       "      <th>...</th>\n",
       "      <th>StackOverflowMakeMoney</th>\n",
       "      <th>Gender</th>\n",
       "      <th>HighestEducationParents</th>\n",
       "      <th>Race</th>\n",
       "      <th>SurveyLong</th>\n",
       "      <th>QuestionsInteresting</th>\n",
       "      <th>QuestionsConfusing</th>\n",
       "      <th>InterestedAnswers</th>\n",
       "      <th>Salary</th>\n",
       "      <th>ExpectedSalary</th>\n",
       "    </tr>\n",
       "  </thead>\n",
       "  <tbody>\n",
       "    <tr>\n",
       "      <th>0</th>\n",
       "      <td>1</td>\n",
       "      <td>Student</td>\n",
       "      <td>Yes, both</td>\n",
       "      <td>United States</td>\n",
       "      <td>No</td>\n",
       "      <td>Not employed, and not looking for work</td>\n",
       "      <td>Secondary school</td>\n",
       "      <td>NaN</td>\n",
       "      <td>NaN</td>\n",
       "      <td>NaN</td>\n",
       "      <td>...</td>\n",
       "      <td>Strongly disagree</td>\n",
       "      <td>Male</td>\n",
       "      <td>High school</td>\n",
       "      <td>White or of European descent</td>\n",
       "      <td>Strongly disagree</td>\n",
       "      <td>Strongly agree</td>\n",
       "      <td>Disagree</td>\n",
       "      <td>Strongly agree</td>\n",
       "      <td>NaN</td>\n",
       "      <td>NaN</td>\n",
       "    </tr>\n",
       "    <tr>\n",
       "      <th>1</th>\n",
       "      <td>2</td>\n",
       "      <td>Student</td>\n",
       "      <td>Yes, both</td>\n",
       "      <td>United Kingdom</td>\n",
       "      <td>Yes, full-time</td>\n",
       "      <td>Employed part-time</td>\n",
       "      <td>Some college/university study without earning ...</td>\n",
       "      <td>Computer science or software engineering</td>\n",
       "      <td>More than half, but not all, the time</td>\n",
       "      <td>20 to 99 employees</td>\n",
       "      <td>...</td>\n",
       "      <td>Strongly disagree</td>\n",
       "      <td>Male</td>\n",
       "      <td>A master's degree</td>\n",
       "      <td>White or of European descent</td>\n",
       "      <td>Somewhat agree</td>\n",
       "      <td>Somewhat agree</td>\n",
       "      <td>Disagree</td>\n",
       "      <td>Strongly agree</td>\n",
       "      <td>NaN</td>\n",
       "      <td>37500.0</td>\n",
       "    </tr>\n",
       "  </tbody>\n",
       "</table>\n",
       "<p>2 rows × 154 columns</p>\n",
       "</div>"
      ],
      "text/plain": [
       "   Respondent Professional ProgramHobby         Country      University  \\\n",
       "0           1      Student    Yes, both   United States              No   \n",
       "1           2      Student    Yes, both  United Kingdom  Yes, full-time   \n",
       "\n",
       "                         EmploymentStatus  \\\n",
       "0  Not employed, and not looking for work   \n",
       "1                      Employed part-time   \n",
       "\n",
       "                                     FormalEducation  \\\n",
       "0                                   Secondary school   \n",
       "1  Some college/university study without earning ...   \n",
       "\n",
       "                             MajorUndergrad  \\\n",
       "0                                       NaN   \n",
       "1  Computer science or software engineering   \n",
       "\n",
       "                              HomeRemote         CompanySize  ...  \\\n",
       "0                                    NaN                 NaN  ...   \n",
       "1  More than half, but not all, the time  20 to 99 employees  ...   \n",
       "\n",
       "  StackOverflowMakeMoney Gender HighestEducationParents  \\\n",
       "0      Strongly disagree   Male             High school   \n",
       "1      Strongly disagree   Male       A master's degree   \n",
       "\n",
       "                           Race         SurveyLong QuestionsInteresting  \\\n",
       "0  White or of European descent  Strongly disagree       Strongly agree   \n",
       "1  White or of European descent     Somewhat agree       Somewhat agree   \n",
       "\n",
       "  QuestionsConfusing InterestedAnswers  Salary  ExpectedSalary  \n",
       "0           Disagree    Strongly agree     NaN             NaN  \n",
       "1           Disagree    Strongly agree     NaN         37500.0  \n",
       "\n",
       "[2 rows x 154 columns]"
      ]
     },
     "execution_count": 3,
     "metadata": {},
     "output_type": "execute_result"
    }
   ],
   "source": [
    "df.head(2)"
   ]
  },
  {
   "cell_type": "code",
   "execution_count": 4,
   "id": "41bac43d",
   "metadata": {},
   "outputs": [],
   "source": [
    "def get_description(column_name, schema=schema):\n",
    "    '''\n",
    "    INPUT\n",
    "        schema - pandas dataframe with the schema of the developers survey\n",
    "        column_name - string - the name of the column you would like to know about\n",
    "    OUTPUT\n",
    "        desc - string - the description of the column\n",
    "    '''\n",
    "    return list(schema[schema['Column'] == column_name]['Question'])[0]"
   ]
  },
  {
   "cell_type": "code",
   "execution_count": 5,
   "id": "8a3e5fbb",
   "metadata": {},
   "outputs": [
    {
     "data": {
      "text/plain": [
       "'Which of the following best describes you?'"
      ]
     },
     "execution_count": 5,
     "metadata": {},
     "output_type": "execute_result"
    }
   ],
   "source": [
    "get_description(df.columns[1])"
   ]
  },
  {
   "cell_type": "markdown",
   "id": "98754c8d",
   "metadata": {},
   "source": [
    "## Analyze Data & Answer Above Questions\n",
    "In order to answer theses questions, we only consider some special features. Specially, we will\n",
    "check: Country, Professional, HaveWorkLanguage, WantWorkLanguage and Salary"
   ]
  },
  {
   "cell_type": "code",
   "execution_count": 6,
   "id": "fad17881",
   "metadata": {},
   "outputs": [],
   "source": [
    "new_df = df[[\"Respondent\", \"Country\", \"Professional\", \"HaveWorkedLanguage\", \"WantWorkLanguage\", \"Salary\"]]"
   ]
  },
  {
   "cell_type": "code",
   "execution_count": 7,
   "id": "5d863ff8",
   "metadata": {},
   "outputs": [
    {
     "data": {
      "text/html": [
       "<div>\n",
       "<style scoped>\n",
       "    .dataframe tbody tr th:only-of-type {\n",
       "        vertical-align: middle;\n",
       "    }\n",
       "\n",
       "    .dataframe tbody tr th {\n",
       "        vertical-align: top;\n",
       "    }\n",
       "\n",
       "    .dataframe thead th {\n",
       "        text-align: right;\n",
       "    }\n",
       "</style>\n",
       "<table border=\"1\" class=\"dataframe\">\n",
       "  <thead>\n",
       "    <tr style=\"text-align: right;\">\n",
       "      <th></th>\n",
       "      <th>Respondent</th>\n",
       "      <th>Country</th>\n",
       "      <th>Professional</th>\n",
       "      <th>HaveWorkedLanguage</th>\n",
       "      <th>WantWorkLanguage</th>\n",
       "      <th>Salary</th>\n",
       "    </tr>\n",
       "  </thead>\n",
       "  <tbody>\n",
       "    <tr>\n",
       "      <th>0</th>\n",
       "      <td>1</td>\n",
       "      <td>United States</td>\n",
       "      <td>Student</td>\n",
       "      <td>Swift</td>\n",
       "      <td>Swift</td>\n",
       "      <td>NaN</td>\n",
       "    </tr>\n",
       "    <tr>\n",
       "      <th>1</th>\n",
       "      <td>2</td>\n",
       "      <td>United Kingdom</td>\n",
       "      <td>Student</td>\n",
       "      <td>JavaScript; Python; Ruby; SQL</td>\n",
       "      <td>Java; Python; Ruby; SQL</td>\n",
       "      <td>NaN</td>\n",
       "    </tr>\n",
       "  </tbody>\n",
       "</table>\n",
       "</div>"
      ],
      "text/plain": [
       "   Respondent         Country Professional             HaveWorkedLanguage  \\\n",
       "0           1   United States      Student                          Swift   \n",
       "1           2  United Kingdom      Student  JavaScript; Python; Ruby; SQL   \n",
       "\n",
       "          WantWorkLanguage  Salary  \n",
       "0                    Swift     NaN  \n",
       "1  Java; Python; Ruby; SQL     NaN  "
      ]
     },
     "execution_count": 7,
     "metadata": {},
     "output_type": "execute_result"
    }
   ],
   "source": [
    "new_df.head(2)"
   ]
  },
  {
   "cell_type": "code",
   "execution_count": 8,
   "id": "d97ae2f4",
   "metadata": {},
   "outputs": [],
   "source": [
    "ques1_df = new_df.Country[new_df.Professional == \"Professional developer\"].value_counts()"
   ]
  },
  {
   "cell_type": "code",
   "execution_count": 9,
   "id": "66e46be5",
   "metadata": {},
   "outputs": [
    {
     "data": {
      "text/plain": [
       "United States     8310\n",
       "India             3438\n",
       "United Kingdom    3302\n",
       "Germany           2767\n",
       "Canada            1605\n",
       "Name: Country, dtype: int64"
      ]
     },
     "execution_count": 9,
     "metadata": {},
     "output_type": "execute_result"
    }
   ],
   "source": [
    "ques1_df[:5]"
   ]
  },
  {
   "cell_type": "code",
   "execution_count": 10,
   "id": "9479a4db",
   "metadata": {},
   "outputs": [
    {
     "data": {
      "text/plain": [
       "<matplotlib.axes._subplots.AxesSubplot at 0x1999daec670>"
      ]
     },
     "execution_count": 10,
     "metadata": {},
     "output_type": "execute_result"
    },
    {
     "data": {
      "image/png": "[encoded data removed]",
      "text/plain": [
       "<Figure size 432x288 with 1 Axes>"
      ]
     },
     "metadata": {
      "needs_background": "light"
     },
     "output_type": "display_data"
    }
   ],
   "source": [
    "ques1_df[:5].plot(kind=\"bar\", title=\"Top 5 countries have most professional developers\",\\\n",
    "             xlabel=\"Country\", ylabel=\"Number of Professional Developers\",\\\n",
    "             color=[\"g\", \"b\", \"purple\", \"orange\", \"r\"])"
   ]
  },
  {
   "cell_type": "markdown",
   "id": "4ccb829d",
   "metadata": {},
   "source": [
    "#### 1. Top 5 countries have most professional developers: US, India, UK, Germany and Canada\n",
    "<table>\n",
    "<tr float=\"left\">\n",
    "   <td><img src=\"images/ques1.PNG\"></td>\n",
    "   <td><img src=\"images/output1.PNG\"/></td>\n",
    "</tr>\n",
    "    </table>"
   ]
  },
  {
   "cell_type": "code",
   "execution_count": 11,
   "id": "7683b10a",
   "metadata": {},
   "outputs": [
    {
     "name": "stderr",
     "output_type": "stream",
     "text": [
      "C:\\Users\\phucht2\\AppData\\Local\\Temp/ipykernel_22560/3247795662.py:1: SettingWithCopyWarning: \n",
      "A value is trying to be set on a copy of a slice from a DataFrame.\n",
      "Try using .loc[row_indexer,col_indexer] = value instead\n",
      "\n",
      "See the caveats in the documentation: https://pandas.pydata.org/pandas-docs/stable/user_guide/indexing.html#returning-a-view-versus-a-copy\n",
      "  new_df[\"haveworkedlanguagepython\"] = new_df.apply(lambda x: 1 if \\\n"
     ]
    }
   ],
   "source": [
    "new_df[\"haveworkedlanguagepython\"] = new_df.apply(lambda x: 1 if \\\n",
    "        \"Python\" in str(x[\"HaveWorkedLanguage\"]) else 0, axis=1)"
   ]
  },
  {
   "cell_type": "code",
   "execution_count": 12,
   "id": "960fdaf7",
   "metadata": {},
   "outputs": [
    {
     "data": {
      "text/html": [
       "<div>\n",
       "<style scoped>\n",
       "    .dataframe tbody tr th:only-of-type {\n",
       "        vertical-align: middle;\n",
       "    }\n",
       "\n",
       "    .dataframe tbody tr th {\n",
       "        vertical-align: top;\n",
       "    }\n",
       "\n",
       "    .dataframe thead th {\n",
       "        text-align: right;\n",
       "    }\n",
       "</style>\n",
       "<table border=\"1\" class=\"dataframe\">\n",
       "  <thead>\n",
       "    <tr style=\"text-align: right;\">\n",
       "      <th></th>\n",
       "      <th>Respondent</th>\n",
       "      <th>Country</th>\n",
       "      <th>Professional</th>\n",
       "      <th>HaveWorkedLanguage</th>\n",
       "      <th>WantWorkLanguage</th>\n",
       "      <th>Salary</th>\n",
       "      <th>haveworkedlanguagepython</th>\n",
       "    </tr>\n",
       "  </thead>\n",
       "  <tbody>\n",
       "    <tr>\n",
       "      <th>0</th>\n",
       "      <td>1</td>\n",
       "      <td>United States</td>\n",
       "      <td>Student</td>\n",
       "      <td>Swift</td>\n",
       "      <td>Swift</td>\n",
       "      <td>NaN</td>\n",
       "      <td>0</td>\n",
       "    </tr>\n",
       "    <tr>\n",
       "      <th>1</th>\n",
       "      <td>2</td>\n",
       "      <td>United Kingdom</td>\n",
       "      <td>Student</td>\n",
       "      <td>JavaScript; Python; Ruby; SQL</td>\n",
       "      <td>Java; Python; Ruby; SQL</td>\n",
       "      <td>NaN</td>\n",
       "      <td>1</td>\n",
       "    </tr>\n",
       "  </tbody>\n",
       "</table>\n",
       "</div>"
      ],
      "text/plain": [
       "   Respondent         Country Professional             HaveWorkedLanguage  \\\n",
       "0           1   United States      Student                          Swift   \n",
       "1           2  United Kingdom      Student  JavaScript; Python; Ruby; SQL   \n",
       "\n",
       "          WantWorkLanguage  Salary  haveworkedlanguagepython  \n",
       "0                    Swift     NaN                         0  \n",
       "1  Java; Python; Ruby; SQL     NaN                         1  "
      ]
     },
     "execution_count": 12,
     "metadata": {},
     "output_type": "execute_result"
    }
   ],
   "source": [
    "new_df.head(2)"
   ]
  },
  {
   "cell_type": "code",
   "execution_count": 53,
   "id": "be02f593",
   "metadata": {},
   "outputs": [],
   "source": [
    "ques2_df = new_df.Country[new_df.haveworkedlanguagepython == 1].value_counts()"
   ]
  },
  {
   "cell_type": "code",
   "execution_count": 54,
   "id": "947248c5",
   "metadata": {},
   "outputs": [
    {
     "data": {
      "text/plain": [
       "United States     3348\n",
       "United Kingdom    1038\n",
       "Germany            947\n",
       "India              735\n",
       "Canada             620\n",
       "Name: Country, dtype: int64"
      ]
     },
     "execution_count": 54,
     "metadata": {},
     "output_type": "execute_result"
    }
   ],
   "source": [
    "ques2_df[:5]"
   ]
  },
  {
   "cell_type": "code",
   "execution_count": 55,
   "id": "08259070",
   "metadata": {},
   "outputs": [
    {
     "data": {
      "text/plain": [
       "<matplotlib.axes._subplots.AxesSubplot at 0x199a3f57d60>"
      ]
     },
     "execution_count": 55,
     "metadata": {},
     "output_type": "execute_result"
    },
    {
     "data": {
      "image/png": "[encoded data removed]",
      "text/plain": [
       "<Figure size 432x288 with 1 Axes>"
      ]
     },
     "metadata": {
      "needs_background": "light"
     },
     "output_type": "display_data"
    }
   ],
   "source": [
    "ques2_df[:5].plot(kind=\"bar\", title=\"Top 5 countries have most person who have worked with Python\",\\\n",
    "             xlabel=\"Country\", ylabel=\"Number of Person\",\\\n",
    "             color=[\"g\", \"b\", \"purple\", \"orange\", \"r\"])"
   ]
  },
  {
   "cell_type": "markdown",
   "id": "85aeabf1",
   "metadata": {},
   "source": [
    "#### 2. Top 5 countries have most person who have worked Python: US, UK, Germany, India and Canada\n",
    "<table>\n",
    "<tr float=\"left\">\n",
    "    <td><img src=\"images/ques2.PNG\"/></td>\n",
    "    <td><img src=\"images/output2.PNG\"/></td>\n",
    "</tr>\n",
    "</table>"
   ]
  },
  {
   "cell_type": "code",
   "execution_count": 56,
   "id": "6ceb456c",
   "metadata": {},
   "outputs": [],
   "source": [
    "ques3_python_df = new_df.Salary[new_df.haveworkedlanguagepython == 1].mean()"
   ]
  },
  {
   "cell_type": "code",
   "execution_count": 57,
   "id": "864575b2",
   "metadata": {},
   "outputs": [],
   "source": [
    "ques3_other_df = new_df.Salary[new_df.haveworkedlanguagepython != 1].mean()"
   ]
  },
  {
   "cell_type": "code",
   "execution_count": 58,
   "id": "639ff123",
   "metadata": {},
   "outputs": [],
   "source": [
    "ques3_df = pd.DataFrame({\"Python\": [str(int(ques3_other_df)) + \"$/ year\"], \\\n",
    "                         \"Not Python\":[str(int(ques3_python_df)) + \"$/ year\"]}, index=None)"
   ]
  },
  {
   "cell_type": "code",
   "execution_count": 59,
   "id": "2f22785d",
   "metadata": {},
   "outputs": [
    {
     "data": {
      "text/html": [
       "<div>\n",
       "<style scoped>\n",
       "    .dataframe tbody tr th:only-of-type {\n",
       "        vertical-align: middle;\n",
       "    }\n",
       "\n",
       "    .dataframe tbody tr th {\n",
       "        vertical-align: top;\n",
       "    }\n",
       "\n",
       "    .dataframe thead th {\n",
       "        text-align: right;\n",
       "    }\n",
       "</style>\n",
       "<table border=\"1\" class=\"dataframe\">\n",
       "  <thead>\n",
       "    <tr style=\"text-align: right;\">\n",
       "      <th></th>\n",
       "      <th>Python</th>\n",
       "      <th>Not Python</th>\n",
       "    </tr>\n",
       "  </thead>\n",
       "  <tbody>\n",
       "    <tr>\n",
       "      <th>0</th>\n",
       "      <td>54352$/ year</td>\n",
       "      <td>61641$/ year</td>\n",
       "    </tr>\n",
       "  </tbody>\n",
       "</table>\n",
       "</div>"
      ],
      "text/plain": [
       "         Python    Not Python\n",
       "0  54352$/ year  61641$/ year"
      ]
     },
     "execution_count": 59,
     "metadata": {},
     "output_type": "execute_result"
    }
   ],
   "source": [
    "ques3_df"
   ]
  },
  {
   "cell_type": "markdown",
   "id": "c949c427",
   "metadata": {},
   "source": [
    "#### 3. Compare average salary of person who used to work with Python language with Others\n"
   ]
  },
  {
   "cell_type": "markdown",
   "id": "5513717e",
   "metadata": {},
   "source": [
    "<img src=\"images/output3.PNG\">\n",
    "It can be seen that, average salary of person who used to work with Python language is less than the average salary of person who used to work with other languages"
   ]
  },
  {
   "cell_type": "code",
   "execution_count": null,
   "id": "eab4a206",
   "metadata": {},
   "outputs": [],
   "source": []
  },
  {
   "cell_type": "code",
   "execution_count": null,
   "id": "1a6d55c7",
   "metadata": {},
   "outputs": [],
   "source": []
  }
 ],
 "metadata": {
  "kernelspec": {
   "display_name": "Python 3 (ipykernel)",
   "language": "python",
   "name": "python3"
  },
  "language_info": {
   "codemirror_mode": {
    "name": "ipython",
    "version": 3
   },
   "file_extension": ".py",
   "mimetype": "text/x-python",
   "name": "python",
   "nbconvert_exporter": "python",
   "pygments_lexer": "ipython3",
   "version": "3.9.7"
  },
  "vscode": {
   "interpreter": {
    "hash": "915fad4f083937ba27ad06f27af9f139a200a517c6e237201f926753974415f7"
   }
  }
 },
 "nbformat": 4,
 "nbformat_minor": 5
}
